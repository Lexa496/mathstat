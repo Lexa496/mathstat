{
 "cells": [
  {
   "cell_type": "markdown",
   "id": "e93021d7",
   "metadata": {},
   "source": [
    "# Задача:\n",
    "\n",
    "Имеется выборка некоторой случайной величины E в виде интервального статистического ряда:\n",
    "\n",
    "| Интервал   | Частота |\n",
    "|------------|---------|\n",
    "| (140;145)  | 60     |\n",
    "| (145;150)  | 140     |\n",
    "| (150;155)  | 135     |\n",
    "| (155;160)  | 55     |\n",
    "| (160;165)  | 10      |\n",
    "\n",
    "Требуется:\n",
    "\n",
    "а) Построить гистограмму и график эмперической функции распределения F_n(x).\n",
    "\n",
    "б) Вычислить выборочные: \n",
    "- среднее\n",
    "- дисперсию\n",
    "- медиану\n",
    "- коэффициент\n",
    "- вариации\n",
    "- коэффициент асимметрии\n",
    "- эксцесс.\n",
    "\n",
    "в) Добавить искусственно к данным большую флуктуацию (порядка 1000). Как изменятся вычисленные параметры? Почему?\n"
   ]
  },
  {
   "cell_type": "markdown",
   "id": "cb41d950",
   "metadata": {},
   "source": [
    "# Решение (Python):"
   ]
  },
  {
   "cell_type": "markdown",
   "id": "6ec29c15",
   "metadata": {},
   "source": [
    "## Импорт библиотек"
   ]
  },
  {
   "cell_type": "code",
   "execution_count": 51,
   "id": "bee6e230",
   "metadata": {},
   "outputs": [],
   "source": [
    "import numpy as np\n",
    "import matplotlib.pyplot as plt\n",
    "from scipy import stats"
   ]
  },
  {
   "cell_type": "markdown",
   "id": "14ad264f",
   "metadata": {},
   "source": [
    "## Интервальный статистический ряд\n"
   ]
  },
  {
   "cell_type": "code",
   "execution_count": 52,
   "id": "57ea4be0",
   "metadata": {},
   "outputs": [],
   "source": [
    "intervals = [(140, 145), (145, 150), (150, 155), (155, 160), (160, 165)]\n",
    "frequencies = [60, 140, 135, 55, 10]"
   ]
  },
  {
   "cell_type": "markdown",
   "id": "dc4cfa49",
   "metadata": {},
   "source": [
    "## Создание выборки из интервального статистического ряда\n"
   ]
  },
  {
   "cell_type": "code",
   "execution_count": 53,
   "id": "60eae00a",
   "metadata": {},
   "outputs": [],
   "source": [
    "data = []\n",
    "for interval, freq in zip(intervals, frequencies):\n",
    "    value = (interval[0] + interval[1]) / 2  # среднее значение внутри интервала\n",
    "    data.extend([value] * freq)  # повторяем значение freq раз"
   ]
  },
  {
   "cell_type": "markdown",
   "id": "210bb576",
   "metadata": {},
   "source": [
    "## Гистограмма\n"
   ]
  },
  {
   "cell_type": "code",
   "execution_count": 54,
   "id": "bbcf25ea",
   "metadata": {},
   "outputs": [
    {
     "data": {
      "text/plain": [
       "(array([0.15  , 0.    , 0.    , 0.    , 0.    , 0.35  , 0.    , 0.    ,\n",
       "        0.    , 0.    , 0.3375, 0.    , 0.    , 0.    , 0.    , 0.1375,\n",
       "        0.    , 0.    , 0.    , 0.025 ]),\n",
       " array([142.5, 143.5, 144.5, 145.5, 146.5, 147.5, 148.5, 149.5, 150.5,\n",
       "        151.5, 152.5, 153.5, 154.5, 155.5, 156.5, 157.5, 158.5, 159.5,\n",
       "        160.5, 161.5, 162.5]),\n",
       " <BarContainer object of 20 artists>)"
      ]
     },
     "execution_count": 54,
     "metadata": {},
     "output_type": "execute_result"
    },
    {
     "data": {
      "image/png": "[encoded data removed]",
      "text/plain": [
       "<Figure size 640x480 with 1 Axes>"
      ]
     },
     "metadata": {},
     "output_type": "display_data"
    }
   ],
   "source": [
    "plt.hist(data, bins=20, density=True, alpha=0.7, color='blue', edgecolor='black')"
   ]
  },
  {
   "cell_type": "markdown",
   "id": "c33b61ed",
   "metadata": {},
   "source": [
    "## График эмпирической функции распределения\n"
   ]
  },
  {
   "cell_type": "code",
   "execution_count": 55,
   "id": "acc65b88",
   "metadata": {},
   "outputs": [
    {
     "data": {
      "text/plain": [
       "[<matplotlib.lines.Line2D at 0x1749f4dc250>]"
      ]
     },
     "execution_count": 55,
     "metadata": {},
     "output_type": "execute_result"
    },
    {
     "data": {
      "image/png": "[encoded data removed]",
      "text/plain": [
       "<Figure size 640x480 with 1 Axes>"
      ]
     },
     "metadata": {},
     "output_type": "display_data"
    }
   ],
   "source": [
    "x = np.sort(data)\n",
    "y = np.arange(1, len(x) + 1) / len(x)\n",
    "plt.plot(y, x, marker='.', linestyle='none', color='blue')"
   ]
  },
  {
   "cell_type": "markdown",
   "id": "42087939",
   "metadata": {},
   "source": [
    "## Вычисление статистических параметров выборки\n"
   ]
  },
  {
   "cell_type": "code",
   "execution_count": 56,
   "id": "fa4e0aa7",
   "metadata": {},
   "outputs": [],
   "source": [
    "mean = np.mean(data) # среднее\n",
    "variance = np.var(data) # дисперсия\n",
    "median = np.median(data) # медиана\n",
    "cv = np.std(data) / np.mean(data)  # коэффициент вариации\n",
    "skewness = stats.skew(data)  # коэффициент асимметрии\n",
    "kurtosis = stats.kurtosis(data)  # эксцесс"
   ]
  },
  {
   "cell_type": "code",
   "execution_count": 57,
   "id": "68c16d72",
   "metadata": {
    "scrolled": true
   },
   "outputs": [
    {
     "name": "stdout",
     "output_type": "stream",
     "text": [
      "**Статистические параметры для исходной выборки:**\n",
      "Среднее: 150.1875\n",
      "Дисперсия: 24.33984375\n",
      "Медиана: 150.0\n",
      "Коэффициент вариации: 0.03284922325737143\n",
      "Коэффициент асимметрии: 0.24701208634289054\n",
      "Эксцесс: -0.4351425347983242\n"
     ]
    }
   ],
   "source": [
    "print(f\"**Статистические параметры для исходной выборки:**\")\n",
    "print(f\"Среднее: {mean}\")\n",
    "print(f\"Дисперсия: {variance}\")\n",
    "print(f\"Медиана: {median}\")\n",
    "print(f\"Коэффициент вариации: {cv}\")\n",
    "print(f\"Коэффициент асимметрии: {skewness}\")\n",
    "print(f\"Эксцесс: {kurtosis}\")"
   ]
  },
  {
   "cell_type": "markdown",
   "id": "05da08a8",
   "metadata": {},
   "source": [
    "## Добавление большой флуктуации\n"
   ]
  },
  {
   "cell_type": "code",
   "execution_count": 58,
   "id": "320a40d4",
   "metadata": {},
   "outputs": [],
   "source": [
    "intervals_with_fluct = [(140, 145), (145, 150), (150, 155), (155, 160), (160, 165), (975,1000)]\n",
    "frequencies_with_fluct = [60, 140, 135, 55, 10, 5]"
   ]
  },
  {
   "cell_type": "code",
   "execution_count": 59,
   "id": "901cb00d",
   "metadata": {},
   "outputs": [],
   "source": [
    "data_with_fluct = []\n",
    "for interval, freq in zip(intervals_with_fluct, frequencies_with_fluct):\n",
    "    value = (interval[0] + interval[1]) / 2  # среднее значение внутри интервала\n",
    "    data_with_fluct.extend([value] * freq)  # повторяем значение freq раз"
   ]
  },
  {
   "cell_type": "markdown",
   "id": "b7134df0",
   "metadata": {},
   "source": [
    "## Вычисление статистических параметров для выборки с большой флуктуацией\n"
   ]
  },
  {
   "cell_type": "code",
   "execution_count": 60,
   "id": "44292085",
   "metadata": {},
   "outputs": [
    {
     "name": "stdout",
     "output_type": "stream",
     "text": [
      "\n",
      "**После добавления большой флуктуации:**\n",
      "Среднее: 160.52469135802468\n",
      "Дисперсия: 8572.641365645479\n",
      "Медиана: 152.5\n",
      "Коэффициент вариации: 0.5767870275884598\n",
      "Коэффициент асимметрии: 8.79444030509971\n",
      "Эксцесс: 75.57020217749961\n"
     ]
    }
   ],
   "source": [
    "mean_fluctuation = np.mean(data_with_fluct)\n",
    "variance_fluctuation = np.var(data_with_fluct)\n",
    "median_fluctuation = np.median(data_with_fluct)\n",
    "cv_fluctuation = np.std(data_with_fluct) / np.mean(data_with_fluct)\n",
    "skewness_fluctuation = stats.skew(data_with_fluct)\n",
    "kurtosis_fluctuation = stats.kurtosis(data_with_fluct)\n",
    "\n",
    "print(\"\\n**После добавления большой флуктуации:**\")\n",
    "print(f\"Среднее: {mean_fluctuation}\")\n",
    "print(f\"Дисперсия: {variance_fluctuation}\")\n",
    "print(f\"Медиана: {median_fluctuation}\")\n",
    "print(f\"Коэффициент вариации: {cv_fluctuation}\")\n",
    "print(f\"Коэффициент асимметрии: {skewness_fluctuation}\")\n",
    "print(f\"Эксцесс: {kurtosis_fluctuation}\")\n",
    "\n",
    "plt.show()"
   ]
  }
 ],
 "metadata": {
  "kernelspec": {
   "display_name": "Python 3 (ipykernel)",
   "language": "python",
   "name": "python3"
  },
  "language_info": {
   "codemirror_mode": {
    "name": "ipython",
    "version": 3
   },
   "file_extension": ".py",
   "mimetype": "text/x-python",
   "name": "python",
   "nbconvert_exporter": "python",
   "pygments_lexer": "ipython3",
   "version": "3.11.7"
  }
 },
 "nbformat": 4,
 "nbformat_minor": 5
}
